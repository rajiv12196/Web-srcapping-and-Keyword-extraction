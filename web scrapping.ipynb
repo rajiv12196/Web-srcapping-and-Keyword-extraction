{
 "cells": [
  {
   "cell_type": "code",
   "execution_count": 1,
   "metadata": {},
   "outputs": [
    {
     "name": "stderr",
     "output_type": "stream",
     "text": [
      "C:\\Users\\Rajeev Ray\\Anaconda3\\lib\\site-packages\\requests\\__init__.py:91: RequestsDependencyWarning: urllib3 (1.26.9) or chardet (3.0.4) doesn't match a supported version!\n",
      "  RequestsDependencyWarning)\n"
     ]
    },
    {
     "name": "stdout",
     "output_type": "stream",
     "text": [
      "['Apartment Vätternkade 85 A', '            1060 PK Amsterdam (Middelveldsche Akerpolder)        ', '                €1,750 per month            ', '70 m²', '3 rooms']\n",
      "['Apartment Admiraal De Ruijterweg 99 2', '            1056 EV Amsterdam (Geuzenbuurt)        ', '                €2,000 per month            ', '82 m²', '4 rooms']\n",
      "['Apartment Silodam', '            1013 AS Amsterdam (Houthavens)        ', '                €1,500 per month            ', '63 m²', '3 rooms']\n",
      "['Apartment Veembroederhof', '            1019 HC Amsterdam (Oostelijk Havengebied)        ', '                €2,150 per month            ', '73 m²', '3 rooms']\n",
      "['Apartment Pieter Lastmankade 1 C', '            1075 KJ Amsterdam (Willemspark)        ', '                €2,950 per month            ', '85 m²', '3 rooms']\n",
      "['Apartment Lindengracht', '            1015 KE Amsterdam (Jordaan)        ', '                €1,650 per month            ', '40 m²', '2 rooms']\n",
      "['Apartment Narva-eiland 57', '            1014 ZJ Amsterdam (Houthavens)        ', '                €3,295 per month            ', '133 m²', '5 rooms']\n",
      "['Apartment Gerard Doustraat 1 B2', '            1072 VG Amsterdam (Oude Pijp)        ', '                €1,795 per month            ', '60 m²', '2 rooms']\n",
      "['Apartment Ottho Heldringstraat', '            1066 AZ Amsterdam (Slotervaart Zuid)        ', '                €1,495 per month            ', '60 m²', '1 room']\n",
      "['Apartment Reyer Anslostraat', '            1054 KV Amsterdam (Overtoomse Sluis)        ', '                €2,250 per month            ', '109 m²', '3 rooms']\n",
      "['Apartment Tuigerstraat', '            1033 PH Amsterdam (Tuindorp Oostzaan)        ', '                €1,495 per month            ', '50 m²', '2 rooms']\n",
      "['Apartment Saenredamstraat', '            1072 CG Amsterdam (Oude Pijp)        ', '                €1,800 per month            ', '55 m²', '2 rooms']\n",
      "['Apartment Albert Luthulistraat', '            1091 NS Amsterdam (Transvaalbuurt)        ', '                €2,250 per month            ', '85 m²', '4 rooms']\n",
      "['Apartment Theo Frenkelhof 108', '            1087 KD Amsterdam (IJburg West)        ', '                €1,700 per month            ', '87 m²', '3 rooms']\n",
      "['Apartment Hasebroekstraat 31 H', '            1053 CM Amsterdam (Kinkerbuurt)        ', '                €1,995 per month            ', '80 m²', '2 rooms']\n",
      "['Apartment Marcusstraat 13 2', '            1091 TH Amsterdam (Weesperzijde)        ', '                €1,900 per month            ', '65 m²', '3 rooms']\n",
      "['Apartment Ferdinand Bolstraat 426', '            1072 ME Amsterdam (Nieuwe Pijp)        ', '                €2,495 per month            ', '100 m²', '5 rooms']\n",
      "['Apartment Kraaienplein 54', '            1021 EG Amsterdam (IJplein/Vogelbuurt)        ', '                €1,450 per month            ', '46 m²', '2 rooms']\n",
      "['Apartment Warmoesstraat 69 D', '            1012 HX Amsterdam (Burgwallen-Oude Zijde)        ', '                €2,100 per month            ', '56 m²', '2 rooms']\n",
      "['Apartment Derde Schinkelstraat 27 A', '            1075 TK Amsterdam (Schinkelbuurt)        ', '                €2,500 per month            ', '72 m²', '3 rooms']\n",
      "['Apartment Marnixstraat 354 bel', '            1016 XV Amsterdam (Jordaan)        ', '                €2,500 per month            ', '80 m²', '2 rooms']\n",
      "['Apartment Rhijnvis Feithstraat', '            1054 TZ Amsterdam (Overtoomse Sluis)        ', '                €1,595 per month            ', '45 m²', '2 rooms']\n",
      "['Apartment Keizersgracht 211 2', '            1016 DT Amsterdam (Grachtengordel-West)        ', '                €2,500 per month            ', '70 m²', '2 rooms']\n",
      "['Apartment Groenburgwal', '            1011 HS Amsterdam (Nieuwmarkt/Lastage)        ', '                €3,500 per month            ', '125 m²', '4 rooms']\n",
      "['Apartment Prinsengracht', '            1015 DR Amsterdam (Grachtengordel-West)        ', '                €2,150 per month            ', '75 m²', '3 rooms']\n",
      "['Apartment Sausalitolaan', '            1031 KE Amsterdam (Noordelijke IJ-oevers West)        ', '                €1,875 per month            ', '67 m²', '1 room']\n",
      "['Apartment Johannes Verhulststraat 181 2', '            1075 GZ Amsterdam (Willemspark)        ', '                €2,750 per month            ', '80 m²', '3 rooms']\n",
      "['Apartment Nijenburg 7', '            1081 GD Amsterdam (Buitenveldert-West)        ', '                €2,150 per month            ', '86 m²', '4 rooms']\n",
      "['Apartment Dintelstraat 61', '            1078 VR Amsterdam (Scheldebuurt)        ', '                €2,100 per month            ', '78 m²', '3 rooms']\n",
      "['Apartment Panamalaan 182 P', '            1019 AZ Amsterdam (Oostelijk Havengebied)        ', '                €1,900 per month            ', '105 m²', '2 rooms']\n",
      "['Apartment Galjootstraat 144', '            1086 VE Amsterdam (IJburg West)        ', '                €1,800 per month            ', '78 m²', '3 rooms']\n"
     ]
    }
   ],
   "source": [
    "from bs4 import BeautifulSoup\n",
    "import requests\n",
    "from csv import writer\n",
    "\n",
    "url= \"https://www.pararius.com/apartments/amsterdam?ac=1\"\n",
    "page = requests.get(url)\n",
    "\n",
    "soup = BeautifulSoup(page.content, 'html.parser')\n",
    "lists = soup.find_all('section', class_=\"listing-search-item\")\n",
    "\n",
    "with open('housing.csv', 'w', encoding='utf8', newline='') as f:\n",
    "    thewriter = writer(f)\n",
    "    header = ['Title', 'Location', 'Price', 'Area','Room']\n",
    "    thewriter.writerow(header)\n",
    "\n",
    "    for list in lists:\n",
    "        title = list.find('a', class_=\"listing-search-item__link--title\").text.replace(\"\\n\",\"\")\n",
    "        location = list.find('div', class_=\"listing-search-item__location\").text.replace(\"\\n\",\"\")\n",
    "        price = list.find('div', class_=\"listing-search-item__price\").text.replace(\"\\n\",\"\")\n",
    "        area = list.find('li', class_=\"illustrated-features__item illustrated-features__item--surface-area\").text.replace(\"\\n\",\"\")\n",
    "        room = list.find('li', class_=\"illustrated-features__item illustrated-features__item--number-of-rooms\").text.replace(\"\\n\",\"\")\n",
    "        \n",
    "        info = [title, location, price, area,room]\n",
    "        thewriter.writerow(info)\n",
    "        print(info)\n",
    "         "
   ]
  },
  {
   "cell_type": "code",
   "execution_count": null,
   "metadata": {},
   "outputs": [],
   "source": []
  },
  {
   "cell_type": "code",
   "execution_count": null,
   "metadata": {},
   "outputs": [],
   "source": []
  }
 ],
 "metadata": {
  "kernelspec": {
   "display_name": "Python 3",
   "language": "python",
   "name": "python3"
  },
  "language_info": {
   "codemirror_mode": {
    "name": "ipython",
    "version": 3
   },
   "file_extension": ".py",
   "mimetype": "text/x-python",
   "name": "python",
   "nbconvert_exporter": "python",
   "pygments_lexer": "ipython3",
   "version": "3.7.4"
  }
 },
 "nbformat": 4,
 "nbformat_minor": 2
}
