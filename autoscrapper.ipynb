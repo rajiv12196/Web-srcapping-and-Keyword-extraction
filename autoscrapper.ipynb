{
 "cells": [
  {
   "cell_type": "code",
   "execution_count": 51,
   "metadata": {},
   "outputs": [
    {
     "name": "stdout",
     "output_type": "stream",
     "text": [
      "Requirement already satisfied: autoscraper in c:\\users\\rajeev ray\\anaconda3\\lib\\site-packages (1.1.12)\n",
      "Requirement already satisfied: requests in c:\\users\\rajeev ray\\anaconda3\\lib\\site-packages (from autoscraper) (2.22.0)\n",
      "Requirement already satisfied: lxml in c:\\users\\rajeev ray\\anaconda3\\lib\\site-packages (from autoscraper) (4.4.1)\n",
      "Requirement already satisfied: bs4 in c:\\users\\rajeev ray\\anaconda3\\lib\\site-packages (from autoscraper) (0.0.1)\n",
      "Requirement already satisfied: certifi>=2017.4.17 in c:\\users\\rajeev ray\\anaconda3\\lib\\site-packages (from requests->autoscraper) (2022.5.18.1)\n",
      "Requirement already satisfied: chardet<3.1.0,>=3.0.2 in c:\\users\\rajeev ray\\anaconda3\\lib\\site-packages (from requests->autoscraper) (3.0.4)\n",
      "Requirement already satisfied: idna<2.9,>=2.5 in c:\\users\\rajeev ray\\anaconda3\\lib\\site-packages (from requests->autoscraper) (2.8)\n",
      "Requirement already satisfied: urllib3!=1.25.0,!=1.25.1,<1.26,>=1.21.1 in c:\\users\\rajeev ray\\anaconda3\\lib\\site-packages (from requests->autoscraper) (1.25.11)\n",
      "Requirement already satisfied: beautifulsoup4 in c:\\users\\rajeev ray\\anaconda3\\lib\\site-packages (from bs4->autoscraper) (4.8.0)\n",
      "Requirement already satisfied: soupsieve>=1.2 in c:\\users\\rajeev ray\\anaconda3\\lib\\site-packages (from beautifulsoup4->bs4->autoscraper) (1.9.3)\n"
     ]
    }
   ],
   "source": [
    "!pip install autoscraper"
   ]
  },
  {
   "cell_type": "code",
   "execution_count": 57,
   "metadata": {},
   "outputs": [],
   "source": [
    "from autoscraper import AutoScraper\n",
    "from csv import writer\n",
    "import pandas as pd\n"
   ]
  },
  {
   "cell_type": "code",
   "execution_count": 74,
   "metadata": {},
   "outputs": [
    {
     "name": "stdout",
     "output_type": "stream",
     "text": [
      "['3.8', '4.4', '4.1', '4', '4.7', '3.9', '4.5', '4.6', '4.2', '4.3', '4.8', '4.9', '4.0', '3.7', 'RAAS Jodhpur', 'MakeMyTrip.com', 'Booking.com', 'Cleartrip.com', 'Trip.com', 'EaseMyTrip.com', 'mrandmrssmith.com', 'Priceline', 'FindHotel.net', 'HappyEasyGo', 'Expedia.co.in', 'Agoda', 'Tripadvisor.in', 'Hotels.com', 'Travelocity.com', 'Orbitz.com', 'ebookers.ie', 'Wotif.com', 'Bluepillow.com', 'Goibibo.com', 'Skyscanner', 'BringFido']\n"
     ]
    }
   ],
   "source": [
    "url=\"https://www.google.com/travel/hotels/Jheepasani%2C%20Rajasthan/entity/CgoI8oST8oTWro5yEAE?q=hotel%20review&g2lb=2502548%2C2503771%2C2503781%2C4258168%2C4270442%2C4284970%2C4291517%2C4306835%2C4597339%2C4649665%2C4722900%2C4723331%2C4733969%2C4741664%2C4757164%2C4758493%2C4762561%2C4778034%2C4779393%2C4781081%2C4786153%2C4786958%2C4789857%2C4791479&hl=en-IN&gl=in&ssta=1&ts=CAESABogCgIaABIaEhQKBwjmDxAGGAESBwjmDxAGGAIYATICEAAqCQoFOgNJTlIaAA&rp=OAFAAEgCogEVSmhlZXBhc2FuaSwgUmFqYXN0aGFuwAED&ap=aAE&ictx=1&ved=0CAAQ5JsGahcKEwjYup3l0Iz4AhUAAAAAHQAAAAAQAw&utm_campaign=sharing&utm_medium=link&utm_source=htls\"\n",
    "\n",
    "wanted_list=[\"4.4\",\"RAAS Jodhpur\"]\n",
    "scrapper=AutoScraper()\n",
    "result=scrapper.build(url,wanted_list)\n",
    "print(result)\n"
   ]
  },
  {
   "cell_type": "code",
   "execution_count": 59,
   "metadata": {},
   "outputs": [
    {
     "name": "stdout",
     "output_type": "stream",
     "text": [
      "['36', '3', '100', '79', '21', '87', '10', '16', '28', '520', '47', '60', '173', '59', '1', '27', '34', '91', '162', '86', '241', '253', '211', '146', '373', '18', '66', 'Machine-Learning-Algorithms-Materials', 'Airfoil-Regression-With-Deployment', 'Malaria-Detection', 'Deep-Learning-Car-Brand', 'Complete-Deep-Learning-With-Materials', 'Weather-Chatbot-Using-Luis', 'Dockers', 'HousePricePrediction', 'Tutorials-Python-In-Hindi', 'Image-Webscrapper', 'Interview-Prepartion-Data-Science', 'Live-Time-Series', '5-Days-Live-EDA-and-Feature-Engineering', 'Natural-Language-Processing', 'RegressionandLasso', 'Python-Tutorials-In-Hindi', 'Mysql-Complete-Playlist', 'Keras-Tuner', 'Finding-an-Outlier', 'Gender-Recognition-and-Age-Estimator', 'Car-Price-Prediction', 'Credit-Card-Fraudlent', 'Huggingfacetransformer', 'Deployment-flask', 'Feature-Engineering-Live-sessions', 'Advanced-House-Price-Prediction-', 'EDA1', 'Python-Practise-Problems', 'PysparkRegressions', 'Flask-Web-Framework']\n"
     ]
    }
   ],
   "source": [
    "url=\"https://github.com/krishnaik06?tab=repositories\"\n",
    "wanted_list=[\"10\",\"HousePricePrediction \"]\n",
    "scrapper=AutoScraper()\n",
    "result=scrapper.build(url,wanted_list)\n",
    "print(result)"
   ]
  },
  {
   "cell_type": "code",
   "execution_count": 60,
   "metadata": {},
   "outputs": [
    {
     "data": {
      "text/plain": [
       "{'rule_0toj': ['36',\n",
       "  '3',\n",
       "  '100',\n",
       "  '79',\n",
       "  '21',\n",
       "  '36',\n",
       "  '87',\n",
       "  '10',\n",
       "  '16',\n",
       "  '28',\n",
       "  '520',\n",
       "  '47',\n",
       "  '60',\n",
       "  '173',\n",
       "  '59',\n",
       "  '1',\n",
       "  '27',\n",
       "  '34',\n",
       "  '91',\n",
       "  '59',\n",
       "  '162',\n",
       "  '86',\n",
       "  '36',\n",
       "  '241',\n",
       "  '253',\n",
       "  '211',\n",
       "  '146',\n",
       "  '373',\n",
       "  '18',\n",
       "  '66'],\n",
       " 'rule_kk4l': ['Machine-Learning-Algorithms-Materials',\n",
       "  'Airfoil-Regression-With-Deployment',\n",
       "  'Malaria-Detection',\n",
       "  'Deep-Learning-Car-Brand',\n",
       "  'Complete-Deep-Learning-With-Materials',\n",
       "  'Weather-Chatbot-Using-Luis',\n",
       "  'Dockers',\n",
       "  'HousePricePrediction',\n",
       "  'Tutorials-Python-In-Hindi',\n",
       "  'Image-Webscrapper',\n",
       "  'Interview-Prepartion-Data-Science',\n",
       "  'Live-Time-Series',\n",
       "  '5-Days-Live-EDA-and-Feature-Engineering',\n",
       "  'Natural-Language-Processing',\n",
       "  'RegressionandLasso',\n",
       "  'Python-Tutorials-In-Hindi',\n",
       "  'Mysql-Complete-Playlist',\n",
       "  'Keras-Tuner',\n",
       "  'Finding-an-Outlier',\n",
       "  'Gender-Recognition-and-Age-Estimator',\n",
       "  'Car-Price-Prediction',\n",
       "  'Credit-Card-Fraudlent',\n",
       "  'Huggingfacetransformer',\n",
       "  'Deployment-flask',\n",
       "  'Feature-Engineering-Live-sessions',\n",
       "  'Advanced-House-Price-Prediction-',\n",
       "  'EDA1',\n",
       "  'Python-Practise-Problems',\n",
       "  'PysparkRegressions',\n",
       "  'Flask-Web-Framework']}"
      ]
     },
     "execution_count": 60,
     "metadata": {},
     "output_type": "execute_result"
    }
   ],
   "source": [
    "scrapper.get_result_similar(\"https://github.com/krishnaik06?tab=repositories\",grouped=True)"
   ]
  },
  {
   "cell_type": "code",
   "execution_count": 62,
   "metadata": {},
   "outputs": [],
   "source": [
    "scrapper.set_rule_aliases({'rule_0toj':'Stars','rule_kk4l':'Title'})\n",
    "scrapper.keep_rules(['rule_0toj','rule_kk4l'])\n",
    "scrapper.save(\"github-repository-search\")"
   ]
  },
  {
   "cell_type": "code",
   "execution_count": 63,
   "metadata": {},
   "outputs": [],
   "source": [
    "\n",
    "scrapper.load(\"github-repository-search\")\n"
   ]
  },
  {
   "cell_type": "code",
   "execution_count": 68,
   "metadata": {},
   "outputs": [
    {
     "name": "stdout",
     "output_type": "stream",
     "text": [
      "{'Stars': ['7', '914', '20', '4', '6', '5', '4', '6', '18', '99', '7', '9', '9', '21', '3', '1', '2', '1', '2', '3', '1', '1'], 'Title': ['chabot_video_codes', 'sudhreviewscrap', 'test123sudh', 'test1234', 'reviewscrapper', 'test1', 'test', 'interview-question-data-science-', 'webscrappper_text', 'flaskWeatherApp', 'MachineLearningModelToPivotal', 'MachineLearningModelToAzure', 'MachineLearningModelToAWS', 'MachineLearningModelToGCP', 'MachineLearningModelToHeroku', 'same-resume-year-wise', 'sudhtest87435353', '-bigsparkrepo', 'deep-learning-drizzle', 'Ineuron-Arhcitecture', 'zomatoEDA', 'A', 'assignmentrepo', 'allMLProjects', 'TimeSeries', 'assignemnt-', 'code', 'xyz', 'waffer-project', 'DeepLearningDocs']}\n"
     ]
    }
   ],
   "source": [
    "result1=scrapper.get_result_similar(\"https://github.com/iNeuronai?tab=repositories\",group_by_alias=True)\n",
    "print(result1)"
   ]
  },
  {
   "cell_type": "code",
   "execution_count": 75,
   "metadata": {},
   "outputs": [],
   "source": [
    "\n",
    "df=pd.DataFrame(result1,columns=['Stars'])\n",
    "df.to_csv('hh.csv')\n"
   ]
  },
  {
   "cell_type": "code",
   "execution_count": null,
   "metadata": {},
   "outputs": [],
   "source": []
  }
 ],
 "metadata": {
  "kernelspec": {
   "display_name": "Python 3",
   "language": "python",
   "name": "python3"
  },
  "language_info": {
   "codemirror_mode": {
    "name": "ipython",
    "version": 3
   },
   "file_extension": ".py",
   "mimetype": "text/x-python",
   "name": "python",
   "nbconvert_exporter": "python",
   "pygments_lexer": "ipython3",
   "version": "3.7.4"
  }
 },
 "nbformat": 4,
 "nbformat_minor": 2
}
