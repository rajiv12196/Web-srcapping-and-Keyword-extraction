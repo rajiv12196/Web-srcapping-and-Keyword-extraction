{
 "cells": [
  {
   "cell_type": "code",
   "execution_count": 2,
   "metadata": {},
   "outputs": [
    {
     "name": "stdout",
     "output_type": "stream",
     "text": [
      "43.65714285714286 priori categorization using text analysis dictionaries implemented\n",
      "36.0 extensively employed social science tools today\n",
      "31.65714285714286 systematic thematic text analysis risks alarming\n",
      "29.15714285714286 thematic text analysis becomes especially worthwhile\n",
      "11.657142857142857 text analysis approach\n",
      "11.0 use thematic indexes\n",
      "9.0 communication development company\n",
      "8.0 million job interviews\n",
      "6.8 analysis applications\n",
      "5.857142857142858 text ’\n",
      "5.857142857142858 business text\n"
     ]
    }
   ],
   "source": [
    "from requests_html import HTMLSession\n",
    "from rake_nltk import Rake\n",
    "\n",
    "\n",
    "def extract_text():\n",
    "    s = HTMLSession()\n",
    "    url = 'https://www.taylorfrancis.com/chapters/edit/10.4324/9781003064060-3/thematic-text-analysis-new-agendas-analyzing-text-content-philip-stone'\n",
    "    response = s.get(url)\n",
    "    return response.html.find('div#collapseContent', first=True).text\n",
    "\n",
    "\n",
    "r = Rake()\n",
    "r.extract_keywords_from_text(extract_text())\n",
    "for rating, keyword in r.get_ranked_phrases_with_scores():\n",
    "    if rating > 5:\n",
    "        print(rating, keyword)\n"
   ]
  },
  {
   "cell_type": "code",
   "execution_count": null,
   "metadata": {},
   "outputs": [],
   "source": []
  }
 ],
 "metadata": {
  "kernelspec": {
   "display_name": "Python 3",
   "language": "python",
   "name": "python3"
  },
  "language_info": {
   "codemirror_mode": {
    "name": "ipython",
    "version": 3
   },
   "file_extension": ".py",
   "mimetype": "text/x-python",
   "name": "python",
   "nbconvert_exporter": "python",
   "pygments_lexer": "ipython3",
   "version": "3.7.4"
  }
 },
 "nbformat": 4,
 "nbformat_minor": 2
}
