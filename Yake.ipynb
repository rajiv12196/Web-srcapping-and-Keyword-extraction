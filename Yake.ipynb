{
 "cells": [
  {
   "cell_type": "code",
   "execution_count": 3,
   "metadata": {},
   "outputs": [
    {
     "name": "stdout",
     "output_type": "stream",
     "text": [
      "Collecting yake\n",
      "  Downloading https://files.pythonhosted.org/packages/ff/7f/c4de4fb40639ec674f944d82e5b0be5a5a9162fc8e83e379ab10b83ee1f9/yake-0.4.8-py2.py3-none-any.whl (60kB)\n",
      "Requirement already satisfied: click>=6.0 in c:\\users\\rajeev ray\\anaconda3\\lib\\site-packages (from yake) (7.0)\n",
      "Requirement already satisfied: networkx in c:\\users\\rajeev ray\\anaconda3\\lib\\site-packages (from yake) (2.3)\n",
      "Collecting segtok (from yake)\n",
      "  Downloading https://files.pythonhosted.org/packages/dd/60/d384dbae5d4756e33f1750fa3472303de2c827011907a64e213e114d0556/segtok-1.5.11-py3-none-any.whl\n",
      "Collecting tabulate (from yake)\n",
      "  Downloading https://files.pythonhosted.org/packages/ca/80/7c0cad11bd99985cfe7c09427ee0b4f9bd6b048bd13d4ffb32c6db237dfb/tabulate-0.8.9-py3-none-any.whl\n",
      "Collecting jellyfish (from yake)\n",
      "  Downloading https://files.pythonhosted.org/packages/93/26/8784c7cd5e056a0f469d8cdfa0d61b58f3143ae40a24ed47f8efe9840f2e/jellyfish-0.9.0-cp37-cp37m-win_amd64.whl\n",
      "Requirement already satisfied: numpy in c:\\users\\rajeev ray\\anaconda3\\lib\\site-packages (from yake) (1.21.6)\n",
      "Requirement already satisfied: decorator>=4.3.0 in c:\\users\\rajeev ray\\anaconda3\\lib\\site-packages (from networkx->yake) (4.4.0)\n",
      "Requirement already satisfied: regex in c:\\users\\rajeev ray\\anaconda3\\lib\\site-packages (from segtok->yake) (2022.4.24)\n",
      "Installing collected packages: segtok, tabulate, jellyfish, yake\n",
      "Successfully installed jellyfish-0.9.0 segtok-1.5.11 tabulate-0.8.9 yake-0.4.8\n"
     ]
    }
   ],
   "source": [
    "\n",
    "!pip install yake\n"
   ]
  },
  {
   "cell_type": "code",
   "execution_count": 4,
   "metadata": {},
   "outputs": [],
   "source": [
    "import yake\n",
    "\n",
    "text = \"Sources tell us that Google is acquiring Kaggle, a platform that hosts data science and machine learning \"\\\n",
    "\"competitions. Details about the transaction remain somewhat vague, but given that Google is hosting its Cloud \"\\\n",
    "\"Next conference in San Francisco this week, the official announcement could come as early as tomorrow. \"\\\n",
    "\"Reached by phone, Kaggle co-founder CEO Anthony Goldbloom declined to deny that the acquisition is happening. \"\\\n",
    "\"Google itself declined 'to comment on rumors'. Kaggle, which has about half a million data scientists on its platform, \"\\\n",
    "\"was founded by Goldbloom  and Ben Hamner in 2010. \"\\\n",
    "\"The service got an early start and even though it has a few competitors like DrivenData, TopCoder and HackerRank, \"\\\n",
    "\"it has managed to stay well ahead of them by focusing on its specific niche. \"\\\n",
    "\"The service is basically the de facto home for running data science and machine learning competitions. \"\\\n",
    "\"With Kaggle, Google is buying one of the largest and most active communities for data scientists - and with that, \"\\\n",
    "\"it will get increased mindshare in this community, too (though it already has plenty of that thanks to Tensorflow \"\\\n",
    "\"and other projects). Kaggle has a bit of a history with Google, too, but that's pretty recent. Earlier this month, \"\\\n",
    "\"Google and Kaggle teamed up to host a $100,000 machine learning competition around classifying YouTube videos. \"\\\n",
    "\"That competition had some deep integrations with the Google Cloud Platform, too. Our understanding is that Google \"\\\n",
    "\"will keep the service running - likely under its current name. While the acquisition is probably more about \"\\\n",
    "\"Kaggle's community than technology, Kaggle did build some interesting tools for hosting its competition \"\\\n",
    "\"and 'kernels', too. On Kaggle, kernels are basically the source code for analyzing data sets and developers can \"\\\n",
    "\"share this code on the platform (the company previously called them 'scripts'). \"\\\n",
    "\"Like similar competition-centric sites, Kaggle also runs a job board, too. It's unclear what Google will do with \"\\\n",
    "\"that part of the service. According to Crunchbase, Kaggle raised $12.5 million (though PitchBook says it's $12.75) \"\\\n",
    "\"since its   launch in 2010. Investors in Kaggle include Index Ventures, SV Angel, Max Levchin, Naval Ravikant, \"\\\n",
    "\"Google chief economist Hal Varian, Khosla Ventures and Yuri Milner \""
   ]
  },
  {
   "cell_type": "code",
   "execution_count": 5,
   "metadata": {},
   "outputs": [
    {
     "name": "stdout",
     "output_type": "stream",
     "text": [
      "('Google', 0.026580863364597897)\n",
      "('Kaggle', 0.0289005976239829)\n",
      "('CEO Anthony Goldbloom', 0.029946071606210194)\n",
      "('San Francisco', 0.048810837074825336)\n",
      "('Anthony Goldbloom declined', 0.06176910090701819)\n",
      "('Google Cloud Platform', 0.06261974476422487)\n",
      "('co-founder CEO Anthony', 0.07357749587020043)\n",
      "('acquiring Kaggle', 0.08723571551039863)\n",
      "('CEO Anthony', 0.08915156857226395)\n",
      "('Anthony Goldbloom', 0.09123482372372106)\n",
      "('machine learning', 0.09147989238151344)\n",
      "('Kaggle co-founder CEO', 0.093805063905847)\n",
      "('data', 0.097574333771058)\n",
      "('Google Cloud', 0.10260128641464673)\n",
      "('machine learning competitions', 0.10773000650607861)\n",
      "('Francisco this week', 0.11519915079240485)\n",
      "('platform', 0.1183512305596321)\n",
      "('conference in San', 0.12392066376108138)\n",
      "('service', 0.12546743261462942)\n",
      "('Goldbloom', 0.14611408778815776)\n"
     ]
    }
   ],
   "source": [
    "kw_extractor = yake.KeywordExtractor()\n",
    "keywords = kw_extractor.extract_keywords(text)\n",
    "\n",
    "for kw in keywords:\n",
    "\tprint(kw)"
   ]
  },
  {
   "cell_type": "code",
   "execution_count": 6,
   "metadata": {},
   "outputs": [
    {
     "data": {
      "text/plain": [
       "\"Sources tell us that <kw>Google</kw> is acquiring <kw>Kaggle</kw>, a <kw>platform</kw> that hosts <kw>data</kw> science and <kw>machine learning</kw> competitions. Details about the transaction remain somewhat vague, but given that <kw>Google</kw> is hosting its Cloud Next conference in <kw>San Francisco</kw> this week, the official announcement could come as early as tomorrow. Reached by phone, <kw>Kaggle</kw> co-founder <kw>CEO Anthony Goldbloom</kw> declined to deny that the acquisition is happening. <kw>Google</kw> itself declined 'to comment on rumors'. <kw>Kaggle</kw>, which has about half a million <kw>data</kw> scientists on its <kw>platform</kw>, was founded by <kw>Goldbloom</kw>  and Ben Hamner in 2010. The <kw>service</kw> got an early start and even though it has a few competitors like DrivenData, TopCoder and HackerRank, it has managed to stay well ahead of them by focusing on its specific niche. The <kw>service</kw> is basically the de facto home for running <kw>data</kw> science and <kw>machine learning</kw> competitions. With <kw>Kaggle</kw>, <kw>Google</kw> is buying one of the largest and most active communities for <kw>data</kw> scientists - and with that, it will get increased mindshare in this community, too (though it already has plenty of that thanks to Tensorflow and other projects). <kw>Kaggle</kw> has a bit of a history with <kw>Google</kw>, too, but that's pretty recent. Earlier this month, <kw>Google</kw> and <kw>Kaggle</kw> teamed up to host a $100,000 <kw>machine learning</kw> competition around classifying YouTube videos. That competition had some deep integrations with the <kw>Google</kw> Cloud <kw>Platform</kw>, too. Our understanding is that <kw>Google</kw> will keep the <kw>service</kw> running - likely under its current name. While the acquisition is probably more about Kaggle's community than technology, <kw>Kaggle</kw> did build some interesting tools for hosting its competition and 'kernels', too. On <kw>Kaggle</kw>, kernels are basically the source code for analyzing <kw>data</kw> sets and developers can share this code on the <kw>platform</kw> (the company previously called them 'scripts'). Like similar competition-centric sites, <kw>Kaggle</kw> also runs a job board, too. It's unclear what <kw>Google</kw> will do with that part of the <kw>service</kw>. According to Crunchbase, <kw>Kaggle</kw> raised $12.5 million (though PitchBook says it's $12.75) since its   launch in 2010. Investors in <kw>Kaggle</kw> include Index Ventures, SV Angel, Max Levchin, Naval Ravikant, <kw>Google</kw> chief economist Hal Varian, Khosla Ventures and Yuri Milner\""
      ]
     },
     "execution_count": 6,
     "metadata": {},
     "output_type": "execute_result"
    }
   ],
   "source": [
    "from yake.highlight import TextHighlighter\n",
    "\n",
    "th = TextHighlighter(max_ngram_size = 3)\n",
    "th.highlight(text, keywords)"
   ]
  },
  {
   "cell_type": "code",
   "execution_count": null,
   "metadata": {},
   "outputs": [],
   "source": []
  }
 ],
 "metadata": {
  "kernelspec": {
   "display_name": "Python 3",
   "language": "python",
   "name": "python3"
  },
  "language_info": {
   "codemirror_mode": {
    "name": "ipython",
    "version": 3
   },
   "file_extension": ".py",
   "mimetype": "text/x-python",
   "name": "python",
   "nbconvert_exporter": "python",
   "pygments_lexer": "ipython3",
   "version": "3.7.4"
  }
 },
 "nbformat": 4,
 "nbformat_minor": 2
}
